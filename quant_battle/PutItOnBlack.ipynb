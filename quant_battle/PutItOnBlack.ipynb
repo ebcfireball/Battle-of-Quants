{
 "cells": [
  {
   "cell_type": "code",
   "execution_count": 1,
   "metadata": {},
   "outputs": [],
   "source": [
    "import pandas as pd\n",
    "import numpy as np\n",
    "import matplotlib.pyplot as plt"
   ]
  },
  {
   "cell_type": "markdown",
   "metadata": {},
   "source": [
    "This sets all the initial variables and fills in the missing values"
   ]
  },
  {
   "cell_type": "code",
   "execution_count": 2,
   "metadata": {},
   "outputs": [],
   "source": [
    "df = pd.read_parquet('BOQ_data.parquet')\n",
    "df['PRC'] = df['PRC'].ffill().bfill()\n",
    "df['EPS'] = df['EPS'].ffill().bfill()\n",
    "df['roic'] = df['roic'].ffill().bfill()\n",
    "start = min(df['DATE'])\n",
    "dates = df['DATE'].unique()\n",
    "data = {}\n",
    "dates = sorted(dates)"
   ]
  },
  {
   "cell_type": "markdown",
   "metadata": {},
   "source": [
    "BIG LOOP"
   ]
  },
  {
   "cell_type": "code",
   "execution_count": 26,
   "metadata": {},
   "outputs": [],
   "source": [
    "#the buy low sell high strat\n",
    "#\n",
    "#\n",
    "data = {}\n",
    "AccValues = []\n",
    "positions = {}\n",
    "Pnl = []\n",
    "# perm: num of stocks bought\n",
    "cash = 10000\n",
    "def calc_acc_value():\n",
    "    acc_value = 0\n",
    "    for key,val in positions.items():\n",
    "        acc_value += data[key]['price'][-1]*val[0]\n",
    "    acc_value+=cash\n",
    "    return acc_value\n",
    "#looping through dates for backtesting\n",
    "for date in dates:\n",
    "    buy = []\n",
    "    sell = []\n",
    "    #lists for holding the permnos of the companies that we will buy and sell\n",
    "    currMonthData = df[df['DATE'] == date]\n",
    "    #looping through each company in the months data to filter \n",
    "    for perm in currMonthData.values:\n",
    "        name = f'{perm[18]}'\n",
    "        price = perm[19]\n",
    "        if data.get(name):\n",
    "            #updating our own metrics for each company including keeping track of all the different indicators we use for signals\n",
    "            curr = data[name]\n",
    "            curr['price'].append(price)\n",
    "            prc_chg = price/curr['price'][-2]-1\n",
    "            curr['mth_prc_chg'] = prc_chg\n",
    "            sma5=0\n",
    "            #caluculate 5 month and 10 month moving average\n",
    "            if len(curr['price'])>=5:\n",
    "                sma5 = (sum(curr['price'][-5:]))/5\n",
    "            #adding to buy or sell if hitting certain signals\n",
    "            if price<sma5:\n",
    "                buy.append(name)\n",
    "            elif price>sma5:\n",
    "                sell.append(name)\n",
    "        else:\n",
    "            data[name] = {'price':[price]}\n",
    "    #stop loss is first\n",
    "    for key,val in positions.items():\n",
    "        price = data[key]['price'][-1]\n",
    "        if len(val)>2:\n",
    "            if ((sum(val[1:])/len(val[1:]))/price-1)<-.005:\n",
    "                cash+=price*val[0]\n",
    "                positions[key] = [0]\n",
    "    #sell all in sell list\n",
    "    for per in sell:\n",
    "        price = data[per]['price'][-1]\n",
    "        if positions.get(per):\n",
    "            if positions[per][0]>0:\n",
    "                cash += price*positions[per][0]\n",
    "                positions[per] = [0]\n",
    "    #buy all in buy list\n",
    "    for per in buy:\n",
    "        price = data[per]['price'][-1]\n",
    "        if cash > price :\n",
    "            if positions.get(per):\n",
    "                positions[per][0] += 1\n",
    "                positions[per].append(price)\n",
    "                cash-= price\n",
    "            else:\n",
    "                positions[per] = [1,price]\n",
    "                cash -= price\n",
    "    # gets the current value of all the positions after each iteration on the dates\n",
    "    acc_val = calc_acc_value()\n",
    "    AccValues.append(acc_val)\n",
    "    Pnl.append(acc_val-10000)"
   ]
  },
  {
   "cell_type": "code",
   "execution_count": 34,
   "metadata": {},
   "outputs": [],
   "source": [
    "#the roic and earnings yield strat\n",
    "#\n",
    "# set all initial variables that will be used like the array of account values, active positions, and pnl, and cash\n",
    "AccValues = []\n",
    "positions = {}\n",
    "Pnl = []\n",
    "cash = 1000\n",
    "#looping through dates for backtesting going every 12 since we buy and sell on a yearly basis\n",
    "for date in dates[::12]:\n",
    "    currMonthData = df[df['DATE'] == date]\n",
    "    #keeping track of the top 3 best companies and their prices, permnos, and scores, and the current minimum score \n",
    "    best_perm = ['','','','','','','','','','','','','','','','','','','','']\n",
    "    best_score = [0,0,0,0,0,0,0,0,0,0,0,0,0,0,0,0,0,0,0,0]\n",
    "    best_prices = [0,0,0,0,0,0,0,0,0,0,0,0,0,0,0,0,0,0,0,0]\n",
    "    curr_min = 0\n",
    "    #looping through each company in the months data to filter \n",
    "    for perm in currMonthData.values:\n",
    "        #get the price, roic, eps, and calculate the earnings yield and score\n",
    "        name = f'{perm[18]}'\n",
    "        price = perm[19]\n",
    "        roic = perm[73]\n",
    "        eps = perm[11]\n",
    "        eyield = eps/price * 100\n",
    "        score = eyield + roic\n",
    "        #seeing if score is higher than the minimum of best_score and updating all the lists if it is with the up to date data\n",
    "        if score>curr_min:\n",
    "            best_score.append(score)\n",
    "            best_perm.append(name)\n",
    "            best_prices.append(price)\n",
    "            ind = best_score.index(curr_min)\n",
    "            best_score.pop(ind)\n",
    "            best_perm.pop(ind)\n",
    "            best_prices.pop(ind)\n",
    "            curr_min = min(best_score)\n",
    "        #sells it if it in the positions. This only sells after the positions were held for a year\n",
    "        if name in positions.keys():\n",
    "            cash+=positions[name]*price\n",
    "        #adding to buy or sell if hitting certain signals\n",
    "    #reset positions\n",
    "    positions = {}\n",
    "    #buy the 20 best stocks per month and then buy the best score with a little bit more money\n",
    "    best_val_ind = best_score.index(max(best_score))-1\n",
    "    amount_per = cash/20\n",
    "    acc_val = cash\n",
    "    for per in best_perm:\n",
    "        curr_price = best_prices[best_perm.index(per)]\n",
    "        able_to_buy = np.floor(amount_per/curr_price)\n",
    "        cash-= able_to_buy*curr_price\n",
    "        positions[per] = able_to_buy\n",
    "    #buy the best stock with the remaining cash if any. This is us betting that the best stock in the group is going to perform the best.\n",
    "    best_buy = best_prices[best_val_ind]\n",
    "    if cash>best_buy:\n",
    "        able_to_best_buy = cash/best_buy\n",
    "        positions[best_perm[best_val_ind]] += able_to_best_buy\n",
    "        cash-=able_to_best_buy*best_buy\n",
    "    # gets the current value of all the positions, and the pnl after each iteration on the dates\n",
    "    AccValues.append(acc_val)\n",
    "    Pnl.append(acc_val-10000)"
   ]
  },
  {
   "cell_type": "markdown",
   "metadata": {},
   "source": [
    "get the column index for a identifier"
   ]
  },
  {
   "cell_type": "code",
   "execution_count": 51,
   "metadata": {},
   "outputs": [
    {
     "data": {
      "text/plain": [
       "0.4306161576057671"
      ]
     },
     "execution_count": 51,
     "metadata": {},
     "output_type": "execute_result"
    }
   ],
   "source": [
    "#calculate sharpe ratio on the yearly account values assuming a 3% risk free return\n",
    "def sharpe(lis):\n",
    "    returns = np.diff(lis) / lis[:-1]\n",
    "    mean_return = np.mean(returns)\n",
    "    std_dev = np.std(returns)\n",
    "    sharpe_ratio = (mean_return - 0.03) / std_dev\n",
    "    return sharpe_ratio\n",
    "sharpe(AccValues)"
   ]
  },
  {
   "cell_type": "code",
   "execution_count": 5,
   "metadata": {},
   "outputs": [
    {
     "name": "stdout",
     "output_type": "stream",
     "text": [
      "11\n"
     ]
    }
   ],
   "source": [
    "#get column index for indicator\n",
    "cols = df.columns.values\n",
    "inp = input(f'{cols}   which name?')\n",
    "def get_index(name):\n",
    "    count = 0\n",
    "    it = iter(cols)\n",
    "    while name!=next(it):\n",
    "        count+=1\n",
    "        if count == 85:\n",
    "            count+=1\n",
    "            break\n",
    "    return count\n",
    "print(get_index(inp))"
   ]
  },
  {
   "cell_type": "code",
   "execution_count": 55,
   "metadata": {},
   "outputs": [
    {
     "data": {
      "image/png": "[encoded data removed]",
      "text/plain": [
       "<Figure size 640x480 with 1 Axes>"
      ]
     },
     "metadata": {},
     "output_type": "display_data"
    }
   ],
   "source": [
    "#plot pnl\n",
    "plt.plot(np.arange(len(Pnl)),np.array(Pnl)-1000)\n",
    "plt.xlabel('years')\n",
    "plt.ylabel('Pnl')\n",
    "plt.title('Pnl')\n",
    "plt.show()"
   ]
  }
 ],
 "metadata": {
  "kernelspec": {
   "display_name": "myenv",
   "language": "python",
   "name": "python3"
  },
  "language_info": {
   "codemirror_mode": {
    "name": "ipython",
    "version": 3
   },
   "file_extension": ".py",
   "mimetype": "text/x-python",
   "name": "python",
   "nbconvert_exporter": "python",
   "pygments_lexer": "ipython3",
   "version": "3.10.12"
  }
 },
 "nbformat": 4,
 "nbformat_minor": 2
}
