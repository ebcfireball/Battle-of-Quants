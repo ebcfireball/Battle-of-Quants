{
 "cells": [
  {
   "cell_type": "code",
   "execution_count": 1,
   "metadata": {},
   "outputs": [],
   "source": [
    "import pandas as pd\n",
    "import numpy as np\n",
    "import matplotlib.pyplot as plt"
   ]
  },
  {
   "cell_type": "markdown",
   "metadata": {},
   "source": [
    "This sets all the initial variables"
   ]
  },
  {
   "cell_type": "code",
   "execution_count": 2,
   "metadata": {},
   "outputs": [],
   "source": [
    "df = pd.read_parquet('BOQ_data.parquet')\n",
    "df['PRC'] = df['PRC'].ffill().bfill()\n",
    "df['ROC'] = df['ROC'].ffill().bfill()\n",
    "df['EPS'] = df['EPS'].ffill().bfill()\n",
    "df['roic'] = df['roic'].ffill().bfill()\n",
    "start = min(df['DATE'])\n",
    "dates = df['DATE'].unique()\n",
    "data = {}\n",
    "dates = sorted(dates)"
   ]
  },
  {
   "cell_type": "markdown",
   "metadata": {},
   "source": [
    "BIG LOOP"
   ]
  },
  {
   "cell_type": "code",
   "execution_count": 26,
   "metadata": {},
   "outputs": [],
   "source": [
    "#the buy low sell high strat\n",
    "#\n",
    "#\n",
    "data = {}\n",
    "AccValues = []\n",
    "positions = {}\n",
    "Pnl = []\n",
    "# perm: num of stocks bought\n",
    "cash = 10000\n",
    "def calc_acc_value():\n",
    "    acc_value = 0\n",
    "    for key,val in positions.items():\n",
    "        acc_value += data[key]['price'][-1]*val[0]\n",
    "    acc_value+=cash\n",
    "    return acc_value\n",
    "#looping through dates for backtesting\n",
    "for date in dates:\n",
    "    buy = []\n",
    "    sell = []\n",
    "    #lists for holding the permnos of the companies that we will buy and sell\n",
    "    currMonthData = df[df['DATE'] == date]\n",
    "    #looping through each company in the months data to filter \n",
    "    for perm in currMonthData.values:\n",
    "        name = f'{perm[18]}'\n",
    "        price = perm[19]\n",
    "        if data.get(name):\n",
    "            #updating our own metrics for each company including keeping track of all the different indicators we use for signals\n",
    "            curr = data[name]\n",
    "            curr['price'].append(price)\n",
    "            prc_chg = price/curr['price'][-2]-1\n",
    "            curr['mth_prc_chg'] = prc_chg\n",
    "            sma5=0\n",
    "            #caluculate 5 month and 10 month moving average\n",
    "            if len(curr['price'])>=5:\n",
    "                sma5 = (sum(curr['price'][-5:]))/5\n",
    "            #adding to buy or sell if hitting certain signals\n",
    "            if price<sma5:\n",
    "                buy.append(name)\n",
    "            elif price>sma5:\n",
    "                sell.append(name)\n",
    "        else:\n",
    "            data[name] = {'price':[price]}\n",
    "    #stop loss is first\n",
    "    for key,val in positions.items():\n",
    "        price = data[key]['price'][-1]\n",
    "        if len(val)>2:\n",
    "            if ((sum(val[1:])/len(val[1:]))/price-1)<-.005:\n",
    "                cash+=price*val[0]\n",
    "                positions[key] = [0]\n",
    "    #sell all in sell list\n",
    "    for per in sell:\n",
    "        price = data[per]['price'][-1]\n",
    "        if positions.get(per):\n",
    "            if positions[per][0]>0:\n",
    "                cash += price*positions[per][0]\n",
    "                positions[per] = [0]\n",
    "    #buy all in buy list\n",
    "    for per in buy:\n",
    "        price = data[per]['price'][-1]\n",
    "        if cash > price :\n",
    "            if positions.get(per):\n",
    "                positions[per][0] += 1\n",
    "                positions[per].append(price)\n",
    "                cash-= price\n",
    "            else:\n",
    "                positions[per] = [1,price]\n",
    "                cash -= price\n",
    "    # gets the current value of all the positions after each iteration on the dates\n",
    "    acc_val = calc_acc_value()\n",
    "    AccValues.append(acc_val)\n",
    "    Pnl.append(acc_val-10000)"
   ]
  },
  {
   "cell_type": "code",
   "execution_count": null,
   "metadata": {},
   "outputs": [],
   "source": [
    "#the roic and earnings yield strat\n",
    "#\n",
    "#\n",
    "data = {}\n",
    "AccValues = []\n",
    "positions = {}\n",
    "Pnl = []\n",
    "# perm: num of stocks bought\n",
    "cash = 10000\n",
    "def calc_acc_value():\n",
    "    acc_value = 0\n",
    "    for key,val in positions.items():\n",
    "        acc_value += data[key]['price'][-1]*val[0]\n",
    "    acc_value+=cash\n",
    "    return acc_value\n",
    "#looping through dates for backtesting\n",
    "for date in dates:\n",
    "    buy = []\n",
    "    sell = []\n",
    "    #lists for holding the permnos of the companies that we will buy and sell\n",
    "    currMonthData = df[df['DATE'] == date]\n",
    "    #looping through each company in the months data to filter \n",
    "    for perm in currMonthData.values:\n",
    "        name = f'{perm[18]}'\n",
    "        price = perm[19]\n",
    "        roic = perm[73]\n",
    "        roc = perm[22]\n",
    "        eps = perm[11]\n",
    "        eyield = eps/price * 100\n",
    "        if data.get(name):\n",
    "            #updating our own metrics for each company including keeping track of all the different indicators we use for signals\n",
    "            curr = data[name]\n",
    "            curr['price'].append(price)\n",
    "            curr['roic'] = roic\n",
    "            curr['eyield'] = eyield\n",
    "            prc_chg = price/curr['price'][-2]-1\n",
    "            curr['mth_prc_chg'] = prc_chg\n",
    "            sma5=0\n",
    "            #caluculate 5 month and 10 month moving average\n",
    "            if len(curr['price'])>=5:\n",
    "                sma5 = (sum(curr['price'][-5:]))/5\n",
    "            #adding to buy or sell if hitting certain signals\n",
    "            if price<sma5:\n",
    "                buy.append(name)\n",
    "            elif price>sma5:\n",
    "                sell.append(name)\n",
    "        else:\n",
    "            data[name] = {'price':[price],'roic':roic,'eyield':eyield}\n",
    "    #stop loss is first\n",
    "    for key,val in positions.items():\n",
    "        price = data[key]['price'][-1]\n",
    "        if len(val)>2:\n",
    "            if ((sum(val[1:])/len(val[1:]))/price-1)<-.005:\n",
    "                cash+=price*val[0]\n",
    "                positions[key] = [0]\n",
    "    #sell all in sell list\n",
    "    for per in sell:\n",
    "        price = data[per]['price'][-1]\n",
    "        if positions.get(per):\n",
    "            if positions[per][0]>0:\n",
    "                cash += price*positions[per][0]\n",
    "                positions[per] = [0]\n",
    "    #buy all in buy list\n",
    "    for per in buy:\n",
    "        price = data[per]['price'][-1]\n",
    "        if cash > price :\n",
    "            if positions.get(per):\n",
    "                positions[per][0] += 1\n",
    "                positions[per].append(price)\n",
    "                cash-= price\n",
    "            else:\n",
    "                positions[per] = [1,price]\n",
    "                cash -= price\n",
    "    # gets the current value of all the positions after each iteration on the dates\n",
    "    acc_val = calc_acc_value()\n",
    "    AccValues.append(acc_val)\n",
    "    Pnl.append(acc_val-10000)"
   ]
  },
  {
   "cell_type": "markdown",
   "metadata": {},
   "source": [
    "get the column index for a identifier"
   ]
  },
  {
   "cell_type": "code",
   "execution_count": 27,
   "metadata": {},
   "outputs": [
    {
     "data": {
      "text/plain": [
       "0.04413881843683544"
      ]
     },
     "execution_count": 27,
     "metadata": {},
     "output_type": "execute_result"
    }
   ],
   "source": [
    "#calculate sharpe ratio\n",
    "def sharpe(lis):\n",
    "    returns = np.diff(lis) / lis[:-1]\n",
    "    mean_return = np.mean(returns)\n",
    "    std_dev = np.std(returns)\n",
    "    sharpe_ratio = (mean_return - 0.03 / 12) / std_dev\n",
    "    return sharpe_ratio\n",
    "sharpe(AccValues)"
   ]
  },
  {
   "cell_type": "code",
   "execution_count": 5,
   "metadata": {},
   "outputs": [
    {
     "name": "stdout",
     "output_type": "stream",
     "text": [
      "11\n"
     ]
    }
   ],
   "source": [
    "#get column index for indicator\n",
    "cols = df.columns.values\n",
    "inp = input(f'{cols}   which name?')\n",
    "def get_index(name):\n",
    "    count = 0\n",
    "    it = iter(cols)\n",
    "    while name!=next(it):\n",
    "        count+=1\n",
    "        if count == 85:\n",
    "            count+=1\n",
    "            break\n",
    "    return count\n",
    "print(get_index(inp))"
   ]
  },
  {
   "cell_type": "code",
   "execution_count": 28,
   "metadata": {},
   "outputs": [
    {
     "data": {
      "image/png": "[encoded data removed]",
      "text/plain": [
       "<Figure size 640x480 with 1 Axes>"
      ]
     },
     "metadata": {},
     "output_type": "display_data"
    },
    {
     "data": {
      "text/plain": [
       "23.040226957833234"
      ]
     },
     "execution_count": 28,
     "metadata": {},
     "output_type": "execute_result"
    }
   ],
   "source": [
    "#plot pnl\n",
    "plt.plot(np.arange(len(AccValues)),AccValues)\n",
    "plt.xlabel('months')\n",
    "plt.ylabel('account value')\n",
    "plt.title('account value')\n",
    "plt.show()\n",
    "(AccValues[-1]/10000 -1)*100/len(AccValues)*12"
   ]
  },
  {
   "cell_type": "code",
   "execution_count": 5,
   "metadata": {},
   "outputs": [
    {
     "data": {
      "text/plain": [
       "0         -0.560000\n",
       "1         -0.560000\n",
       "2         -0.560000\n",
       "3         -0.560000\n",
       "4         -0.560000\n",
       "             ...   \n",
       "3568650    0.132384\n",
       "3568651    0.132384\n",
       "3568652    0.132384\n",
       "3568653    0.132384\n",
       "3568654    0.132384\n",
       "Name: roic, Length: 3534205, dtype: float64"
      ]
     },
     "execution_count": 5,
     "metadata": {},
     "output_type": "execute_result"
    }
   ],
   "source": []
  }
 ],
 "metadata": {
  "kernelspec": {
   "display_name": "myenv",
   "language": "python",
   "name": "python3"
  },
  "language_info": {
   "codemirror_mode": {
    "name": "ipython",
    "version": 3
   },
   "file_extension": ".py",
   "mimetype": "text/x-python",
   "name": "python",
   "nbconvert_exporter": "python",
   "pygments_lexer": "ipython3",
   "version": "3.10.12"
  }
 },
 "nbformat": 4,
 "nbformat_minor": 2
}
